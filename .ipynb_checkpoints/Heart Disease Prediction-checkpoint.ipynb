{
 "cells": [
  {
   "cell_type": "markdown",
   "id": "fccd8455",
   "metadata": {},
   "source": [
    "### Import libraries"
   ]
  },
  {
   "cell_type": "code",
   "execution_count": 1,
   "id": "2c6562e2",
   "metadata": {},
   "outputs": [],
   "source": [
    "import pandas as pd\n",
    "import numpy as np\n",
    "import matplotlib.pyplot as plt"
   ]
  },
  {
   "cell_type": "markdown",
   "id": "0192f57d",
   "metadata": {},
   "source": [
    "### Lode Dataset"
   ]
  },
  {
   "cell_type": "code",
   "execution_count": 2,
   "id": "a5706a6f",
   "metadata": {},
   "outputs": [],
   "source": [
    "dataset = pd.read_csv(\"heart.csv\")"
   ]
  },
  {
   "cell_type": "code",
   "execution_count": 3,
   "id": "fbebf929",
   "metadata": {},
   "outputs": [
    {
     "data": {
      "text/html": [
       "<div>\n",
       "<style scoped>\n",
       "    .dataframe tbody tr th:only-of-type {\n",
       "        vertical-align: middle;\n",
       "    }\n",
       "\n",
       "    .dataframe tbody tr th {\n",
       "        vertical-align: top;\n",
       "    }\n",
       "\n",
       "    .dataframe thead th {\n",
       "        text-align: right;\n",
       "    }\n",
       "</style>\n",
       "<table border=\"1\" class=\"dataframe\">\n",
       "  <thead>\n",
       "    <tr style=\"text-align: right;\">\n",
       "      <th></th>\n",
       "      <th>age</th>\n",
       "      <th>sex</th>\n",
       "      <th>cp</th>\n",
       "      <th>trestbps</th>\n",
       "      <th>chol</th>\n",
       "      <th>fbs</th>\n",
       "      <th>restecg</th>\n",
       "      <th>thalach</th>\n",
       "      <th>exang</th>\n",
       "      <th>oldpeak</th>\n",
       "      <th>slope</th>\n",
       "      <th>ca</th>\n",
       "      <th>thal</th>\n",
       "      <th>target</th>\n",
       "    </tr>\n",
       "  </thead>\n",
       "  <tbody>\n",
       "    <tr>\n",
       "      <th>0</th>\n",
       "      <td>63</td>\n",
       "      <td>1</td>\n",
       "      <td>3</td>\n",
       "      <td>145</td>\n",
       "      <td>233</td>\n",
       "      <td>1</td>\n",
       "      <td>0</td>\n",
       "      <td>150</td>\n",
       "      <td>0</td>\n",
       "      <td>2.3</td>\n",
       "      <td>0</td>\n",
       "      <td>0</td>\n",
       "      <td>1</td>\n",
       "      <td>1</td>\n",
       "    </tr>\n",
       "    <tr>\n",
       "      <th>1</th>\n",
       "      <td>37</td>\n",
       "      <td>1</td>\n",
       "      <td>2</td>\n",
       "      <td>130</td>\n",
       "      <td>250</td>\n",
       "      <td>0</td>\n",
       "      <td>1</td>\n",
       "      <td>187</td>\n",
       "      <td>0</td>\n",
       "      <td>3.5</td>\n",
       "      <td>0</td>\n",
       "      <td>0</td>\n",
       "      <td>2</td>\n",
       "      <td>1</td>\n",
       "    </tr>\n",
       "    <tr>\n",
       "      <th>2</th>\n",
       "      <td>41</td>\n",
       "      <td>0</td>\n",
       "      <td>1</td>\n",
       "      <td>130</td>\n",
       "      <td>204</td>\n",
       "      <td>0</td>\n",
       "      <td>0</td>\n",
       "      <td>172</td>\n",
       "      <td>0</td>\n",
       "      <td>1.4</td>\n",
       "      <td>2</td>\n",
       "      <td>0</td>\n",
       "      <td>2</td>\n",
       "      <td>1</td>\n",
       "    </tr>\n",
       "    <tr>\n",
       "      <th>3</th>\n",
       "      <td>56</td>\n",
       "      <td>1</td>\n",
       "      <td>1</td>\n",
       "      <td>120</td>\n",
       "      <td>236</td>\n",
       "      <td>0</td>\n",
       "      <td>1</td>\n",
       "      <td>178</td>\n",
       "      <td>0</td>\n",
       "      <td>0.8</td>\n",
       "      <td>2</td>\n",
       "      <td>0</td>\n",
       "      <td>2</td>\n",
       "      <td>1</td>\n",
       "    </tr>\n",
       "    <tr>\n",
       "      <th>4</th>\n",
       "      <td>57</td>\n",
       "      <td>0</td>\n",
       "      <td>0</td>\n",
       "      <td>120</td>\n",
       "      <td>354</td>\n",
       "      <td>0</td>\n",
       "      <td>1</td>\n",
       "      <td>163</td>\n",
       "      <td>1</td>\n",
       "      <td>0.6</td>\n",
       "      <td>2</td>\n",
       "      <td>0</td>\n",
       "      <td>2</td>\n",
       "      <td>1</td>\n",
       "    </tr>\n",
       "  </tbody>\n",
       "</table>\n",
       "</div>"
      ],
      "text/plain": [
       "   age  sex  cp  trestbps  chol  fbs  restecg  thalach  exang  oldpeak  slope  \\\n",
       "0   63    1   3       145   233    1        0      150      0      2.3      0   \n",
       "1   37    1   2       130   250    0        1      187      0      3.5      0   \n",
       "2   41    0   1       130   204    0        0      172      0      1.4      2   \n",
       "3   56    1   1       120   236    0        1      178      0      0.8      2   \n",
       "4   57    0   0       120   354    0        1      163      1      0.6      2   \n",
       "\n",
       "   ca  thal  target  \n",
       "0   0     1       1  \n",
       "1   0     2       1  \n",
       "2   0     2       1  \n",
       "3   0     2       1  \n",
       "4   0     2       1  "
      ]
     },
     "execution_count": 3,
     "metadata": {},
     "output_type": "execute_result"
    }
   ],
   "source": [
    "dataset.head()"
   ]
  },
  {
   "cell_type": "code",
   "execution_count": 4,
   "id": "2cbaebf8",
   "metadata": {},
   "outputs": [
    {
     "data": {
      "text/plain": [
       "(303, 14)"
      ]
     },
     "execution_count": 4,
     "metadata": {},
     "output_type": "execute_result"
    }
   ],
   "source": [
    "dataset.shape"
   ]
  },
  {
   "cell_type": "code",
   "execution_count": 5,
   "id": "691ade9e",
   "metadata": {},
   "outputs": [
    {
     "data": {
      "text/plain": [
       "Index(['age', 'sex', 'cp', 'trestbps', 'chol', 'fbs', 'restecg', 'thalach',\n",
       "       'exang', 'oldpeak', 'slope', 'ca', 'thal', 'target'],\n",
       "      dtype='object')"
      ]
     },
     "execution_count": 5,
     "metadata": {},
     "output_type": "execute_result"
    }
   ],
   "source": [
    "dataset.columns"
   ]
  },
  {
   "cell_type": "code",
   "execution_count": 6,
   "id": "4630e4a0",
   "metadata": {},
   "outputs": [
    {
     "name": "stdout",
     "output_type": "stream",
     "text": [
      "<class 'pandas.core.frame.DataFrame'>\n",
      "RangeIndex: 303 entries, 0 to 302\n",
      "Data columns (total 14 columns):\n",
      " #   Column    Non-Null Count  Dtype  \n",
      "---  ------    --------------  -----  \n",
      " 0   age       303 non-null    int64  \n",
      " 1   sex       303 non-null    int64  \n",
      " 2   cp        303 non-null    int64  \n",
      " 3   trestbps  303 non-null    int64  \n",
      " 4   chol      303 non-null    int64  \n",
      " 5   fbs       303 non-null    int64  \n",
      " 6   restecg   303 non-null    int64  \n",
      " 7   thalach   303 non-null    int64  \n",
      " 8   exang     303 non-null    int64  \n",
      " 9   oldpeak   303 non-null    float64\n",
      " 10  slope     303 non-null    int64  \n",
      " 11  ca        303 non-null    int64  \n",
      " 12  thal      303 non-null    int64  \n",
      " 13  target    303 non-null    int64  \n",
      "dtypes: float64(1), int64(13)\n",
      "memory usage: 33.3 KB\n"
     ]
    }
   ],
   "source": [
    "dataset.info()"
   ]
  },
  {
   "cell_type": "code",
   "execution_count": 7,
   "id": "08107e3a",
   "metadata": {},
   "outputs": [
    {
     "data": {
      "text/plain": [
       "age         0\n",
       "sex         0\n",
       "cp          0\n",
       "trestbps    0\n",
       "chol        0\n",
       "fbs         0\n",
       "restecg     0\n",
       "thalach     0\n",
       "exang       0\n",
       "oldpeak     0\n",
       "slope       0\n",
       "ca          0\n",
       "thal        0\n",
       "target      0\n",
       "dtype: int64"
      ]
     },
     "execution_count": 7,
     "metadata": {},
     "output_type": "execute_result"
    }
   ],
   "source": [
    "dataset.isnull().sum()"
   ]
  },
  {
   "cell_type": "code",
   "execution_count": 8,
   "id": "44e3542c",
   "metadata": {},
   "outputs": [
    {
     "data": {
      "text/html": [
       "<div>\n",
       "<style scoped>\n",
       "    .dataframe tbody tr th:only-of-type {\n",
       "        vertical-align: middle;\n",
       "    }\n",
       "\n",
       "    .dataframe tbody tr th {\n",
       "        vertical-align: top;\n",
       "    }\n",
       "\n",
       "    .dataframe thead th {\n",
       "        text-align: right;\n",
       "    }\n",
       "</style>\n",
       "<table border=\"1\" class=\"dataframe\">\n",
       "  <thead>\n",
       "    <tr style=\"text-align: right;\">\n",
       "      <th></th>\n",
       "      <th>age</th>\n",
       "      <th>sex</th>\n",
       "      <th>cp</th>\n",
       "      <th>trestbps</th>\n",
       "      <th>chol</th>\n",
       "      <th>fbs</th>\n",
       "      <th>restecg</th>\n",
       "      <th>thalach</th>\n",
       "      <th>exang</th>\n",
       "      <th>oldpeak</th>\n",
       "      <th>slope</th>\n",
       "      <th>ca</th>\n",
       "      <th>thal</th>\n",
       "      <th>target</th>\n",
       "    </tr>\n",
       "  </thead>\n",
       "  <tbody>\n",
       "    <tr>\n",
       "      <th>count</th>\n",
       "      <td>303.000000</td>\n",
       "      <td>303.000000</td>\n",
       "      <td>303.000000</td>\n",
       "      <td>303.000000</td>\n",
       "      <td>303.000000</td>\n",
       "      <td>303.000000</td>\n",
       "      <td>303.000000</td>\n",
       "      <td>303.000000</td>\n",
       "      <td>303.000000</td>\n",
       "      <td>303.000000</td>\n",
       "      <td>303.000000</td>\n",
       "      <td>303.000000</td>\n",
       "      <td>303.000000</td>\n",
       "      <td>303.000000</td>\n",
       "    </tr>\n",
       "    <tr>\n",
       "      <th>mean</th>\n",
       "      <td>54.366337</td>\n",
       "      <td>0.683168</td>\n",
       "      <td>0.966997</td>\n",
       "      <td>131.623762</td>\n",
       "      <td>246.264026</td>\n",
       "      <td>0.148515</td>\n",
       "      <td>0.528053</td>\n",
       "      <td>149.646865</td>\n",
       "      <td>0.326733</td>\n",
       "      <td>1.039604</td>\n",
       "      <td>1.399340</td>\n",
       "      <td>0.729373</td>\n",
       "      <td>2.313531</td>\n",
       "      <td>0.544554</td>\n",
       "    </tr>\n",
       "    <tr>\n",
       "      <th>std</th>\n",
       "      <td>9.082101</td>\n",
       "      <td>0.466011</td>\n",
       "      <td>1.032052</td>\n",
       "      <td>17.538143</td>\n",
       "      <td>51.830751</td>\n",
       "      <td>0.356198</td>\n",
       "      <td>0.525860</td>\n",
       "      <td>22.905161</td>\n",
       "      <td>0.469794</td>\n",
       "      <td>1.161075</td>\n",
       "      <td>0.616226</td>\n",
       "      <td>1.022606</td>\n",
       "      <td>0.612277</td>\n",
       "      <td>0.498835</td>\n",
       "    </tr>\n",
       "    <tr>\n",
       "      <th>min</th>\n",
       "      <td>29.000000</td>\n",
       "      <td>0.000000</td>\n",
       "      <td>0.000000</td>\n",
       "      <td>94.000000</td>\n",
       "      <td>126.000000</td>\n",
       "      <td>0.000000</td>\n",
       "      <td>0.000000</td>\n",
       "      <td>71.000000</td>\n",
       "      <td>0.000000</td>\n",
       "      <td>0.000000</td>\n",
       "      <td>0.000000</td>\n",
       "      <td>0.000000</td>\n",
       "      <td>0.000000</td>\n",
       "      <td>0.000000</td>\n",
       "    </tr>\n",
       "    <tr>\n",
       "      <th>25%</th>\n",
       "      <td>47.500000</td>\n",
       "      <td>0.000000</td>\n",
       "      <td>0.000000</td>\n",
       "      <td>120.000000</td>\n",
       "      <td>211.000000</td>\n",
       "      <td>0.000000</td>\n",
       "      <td>0.000000</td>\n",
       "      <td>133.500000</td>\n",
       "      <td>0.000000</td>\n",
       "      <td>0.000000</td>\n",
       "      <td>1.000000</td>\n",
       "      <td>0.000000</td>\n",
       "      <td>2.000000</td>\n",
       "      <td>0.000000</td>\n",
       "    </tr>\n",
       "    <tr>\n",
       "      <th>50%</th>\n",
       "      <td>55.000000</td>\n",
       "      <td>1.000000</td>\n",
       "      <td>1.000000</td>\n",
       "      <td>130.000000</td>\n",
       "      <td>240.000000</td>\n",
       "      <td>0.000000</td>\n",
       "      <td>1.000000</td>\n",
       "      <td>153.000000</td>\n",
       "      <td>0.000000</td>\n",
       "      <td>0.800000</td>\n",
       "      <td>1.000000</td>\n",
       "      <td>0.000000</td>\n",
       "      <td>2.000000</td>\n",
       "      <td>1.000000</td>\n",
       "    </tr>\n",
       "    <tr>\n",
       "      <th>75%</th>\n",
       "      <td>61.000000</td>\n",
       "      <td>1.000000</td>\n",
       "      <td>2.000000</td>\n",
       "      <td>140.000000</td>\n",
       "      <td>274.500000</td>\n",
       "      <td>0.000000</td>\n",
       "      <td>1.000000</td>\n",
       "      <td>166.000000</td>\n",
       "      <td>1.000000</td>\n",
       "      <td>1.600000</td>\n",
       "      <td>2.000000</td>\n",
       "      <td>1.000000</td>\n",
       "      <td>3.000000</td>\n",
       "      <td>1.000000</td>\n",
       "    </tr>\n",
       "    <tr>\n",
       "      <th>max</th>\n",
       "      <td>77.000000</td>\n",
       "      <td>1.000000</td>\n",
       "      <td>3.000000</td>\n",
       "      <td>200.000000</td>\n",
       "      <td>564.000000</td>\n",
       "      <td>1.000000</td>\n",
       "      <td>2.000000</td>\n",
       "      <td>202.000000</td>\n",
       "      <td>1.000000</td>\n",
       "      <td>6.200000</td>\n",
       "      <td>2.000000</td>\n",
       "      <td>4.000000</td>\n",
       "      <td>3.000000</td>\n",
       "      <td>1.000000</td>\n",
       "    </tr>\n",
       "  </tbody>\n",
       "</table>\n",
       "</div>"
      ],
      "text/plain": [
       "              age         sex          cp    trestbps        chol         fbs  \\\n",
       "count  303.000000  303.000000  303.000000  303.000000  303.000000  303.000000   \n",
       "mean    54.366337    0.683168    0.966997  131.623762  246.264026    0.148515   \n",
       "std      9.082101    0.466011    1.032052   17.538143   51.830751    0.356198   \n",
       "min     29.000000    0.000000    0.000000   94.000000  126.000000    0.000000   \n",
       "25%     47.500000    0.000000    0.000000  120.000000  211.000000    0.000000   \n",
       "50%     55.000000    1.000000    1.000000  130.000000  240.000000    0.000000   \n",
       "75%     61.000000    1.000000    2.000000  140.000000  274.500000    0.000000   \n",
       "max     77.000000    1.000000    3.000000  200.000000  564.000000    1.000000   \n",
       "\n",
       "          restecg     thalach       exang     oldpeak       slope          ca  \\\n",
       "count  303.000000  303.000000  303.000000  303.000000  303.000000  303.000000   \n",
       "mean     0.528053  149.646865    0.326733    1.039604    1.399340    0.729373   \n",
       "std      0.525860   22.905161    0.469794    1.161075    0.616226    1.022606   \n",
       "min      0.000000   71.000000    0.000000    0.000000    0.000000    0.000000   \n",
       "25%      0.000000  133.500000    0.000000    0.000000    1.000000    0.000000   \n",
       "50%      1.000000  153.000000    0.000000    0.800000    1.000000    0.000000   \n",
       "75%      1.000000  166.000000    1.000000    1.600000    2.000000    1.000000   \n",
       "max      2.000000  202.000000    1.000000    6.200000    2.000000    4.000000   \n",
       "\n",
       "             thal      target  \n",
       "count  303.000000  303.000000  \n",
       "mean     2.313531    0.544554  \n",
       "std      0.612277    0.498835  \n",
       "min      0.000000    0.000000  \n",
       "25%      2.000000    0.000000  \n",
       "50%      2.000000    1.000000  \n",
       "75%      3.000000    1.000000  \n",
       "max      3.000000    1.000000  "
      ]
     },
     "execution_count": 8,
     "metadata": {},
     "output_type": "execute_result"
    }
   ],
   "source": [
    "dataset.describe()"
   ]
  },
  {
   "cell_type": "markdown",
   "id": "bc8f98c1",
   "metadata": {},
   "source": [
    "### Define X and y"
   ]
  },
  {
   "cell_type": "code",
   "execution_count": 9,
   "id": "0f06cb1c",
   "metadata": {},
   "outputs": [],
   "source": [
    "X = dataset.drop('target',axis = 1)"
   ]
  },
  {
   "cell_type": "code",
   "execution_count": 10,
   "id": "dcef89eb",
   "metadata": {},
   "outputs": [
    {
     "data": {
      "text/html": [
       "<div>\n",
       "<style scoped>\n",
       "    .dataframe tbody tr th:only-of-type {\n",
       "        vertical-align: middle;\n",
       "    }\n",
       "\n",
       "    .dataframe tbody tr th {\n",
       "        vertical-align: top;\n",
       "    }\n",
       "\n",
       "    .dataframe thead th {\n",
       "        text-align: right;\n",
       "    }\n",
       "</style>\n",
       "<table border=\"1\" class=\"dataframe\">\n",
       "  <thead>\n",
       "    <tr style=\"text-align: right;\">\n",
       "      <th></th>\n",
       "      <th>age</th>\n",
       "      <th>sex</th>\n",
       "      <th>cp</th>\n",
       "      <th>trestbps</th>\n",
       "      <th>chol</th>\n",
       "      <th>fbs</th>\n",
       "      <th>restecg</th>\n",
       "      <th>thalach</th>\n",
       "      <th>exang</th>\n",
       "      <th>oldpeak</th>\n",
       "      <th>slope</th>\n",
       "      <th>ca</th>\n",
       "      <th>thal</th>\n",
       "    </tr>\n",
       "  </thead>\n",
       "  <tbody>\n",
       "    <tr>\n",
       "      <th>0</th>\n",
       "      <td>63</td>\n",
       "      <td>1</td>\n",
       "      <td>3</td>\n",
       "      <td>145</td>\n",
       "      <td>233</td>\n",
       "      <td>1</td>\n",
       "      <td>0</td>\n",
       "      <td>150</td>\n",
       "      <td>0</td>\n",
       "      <td>2.3</td>\n",
       "      <td>0</td>\n",
       "      <td>0</td>\n",
       "      <td>1</td>\n",
       "    </tr>\n",
       "    <tr>\n",
       "      <th>1</th>\n",
       "      <td>37</td>\n",
       "      <td>1</td>\n",
       "      <td>2</td>\n",
       "      <td>130</td>\n",
       "      <td>250</td>\n",
       "      <td>0</td>\n",
       "      <td>1</td>\n",
       "      <td>187</td>\n",
       "      <td>0</td>\n",
       "      <td>3.5</td>\n",
       "      <td>0</td>\n",
       "      <td>0</td>\n",
       "      <td>2</td>\n",
       "    </tr>\n",
       "    <tr>\n",
       "      <th>2</th>\n",
       "      <td>41</td>\n",
       "      <td>0</td>\n",
       "      <td>1</td>\n",
       "      <td>130</td>\n",
       "      <td>204</td>\n",
       "      <td>0</td>\n",
       "      <td>0</td>\n",
       "      <td>172</td>\n",
       "      <td>0</td>\n",
       "      <td>1.4</td>\n",
       "      <td>2</td>\n",
       "      <td>0</td>\n",
       "      <td>2</td>\n",
       "    </tr>\n",
       "    <tr>\n",
       "      <th>3</th>\n",
       "      <td>56</td>\n",
       "      <td>1</td>\n",
       "      <td>1</td>\n",
       "      <td>120</td>\n",
       "      <td>236</td>\n",
       "      <td>0</td>\n",
       "      <td>1</td>\n",
       "      <td>178</td>\n",
       "      <td>0</td>\n",
       "      <td>0.8</td>\n",
       "      <td>2</td>\n",
       "      <td>0</td>\n",
       "      <td>2</td>\n",
       "    </tr>\n",
       "    <tr>\n",
       "      <th>4</th>\n",
       "      <td>57</td>\n",
       "      <td>0</td>\n",
       "      <td>0</td>\n",
       "      <td>120</td>\n",
       "      <td>354</td>\n",
       "      <td>0</td>\n",
       "      <td>1</td>\n",
       "      <td>163</td>\n",
       "      <td>1</td>\n",
       "      <td>0.6</td>\n",
       "      <td>2</td>\n",
       "      <td>0</td>\n",
       "      <td>2</td>\n",
       "    </tr>\n",
       "  </tbody>\n",
       "</table>\n",
       "</div>"
      ],
      "text/plain": [
       "   age  sex  cp  trestbps  chol  fbs  restecg  thalach  exang  oldpeak  slope  \\\n",
       "0   63    1   3       145   233    1        0      150      0      2.3      0   \n",
       "1   37    1   2       130   250    0        1      187      0      3.5      0   \n",
       "2   41    0   1       130   204    0        0      172      0      1.4      2   \n",
       "3   56    1   1       120   236    0        1      178      0      0.8      2   \n",
       "4   57    0   0       120   354    0        1      163      1      0.6      2   \n",
       "\n",
       "   ca  thal  \n",
       "0   0     1  \n",
       "1   0     2  \n",
       "2   0     2  \n",
       "3   0     2  \n",
       "4   0     2  "
      ]
     },
     "execution_count": 10,
     "metadata": {},
     "output_type": "execute_result"
    }
   ],
   "source": [
    "X.head()"
   ]
  },
  {
   "cell_type": "code",
   "execution_count": 11,
   "id": "0f3280cf",
   "metadata": {},
   "outputs": [],
   "source": [
    "y = dataset['target']"
   ]
  },
  {
   "cell_type": "code",
   "execution_count": 12,
   "id": "776f25bc",
   "metadata": {},
   "outputs": [
    {
     "data": {
      "text/plain": [
       "0    1\n",
       "1    1\n",
       "2    1\n",
       "3    1\n",
       "4    1\n",
       "Name: target, dtype: int64"
      ]
     },
     "execution_count": 12,
     "metadata": {},
     "output_type": "execute_result"
    }
   ],
   "source": [
    "y.head()"
   ]
  },
  {
   "cell_type": "markdown",
   "id": "96e90c3c",
   "metadata": {},
   "source": [
    "### Scale Dataset"
   ]
  },
  {
   "cell_type": "code",
   "execution_count": 13,
   "id": "fb59c2b2",
   "metadata": {},
   "outputs": [],
   "source": [
    "from sklearn.preprocessing import StandardScaler"
   ]
  },
  {
   "cell_type": "code",
   "execution_count": 14,
   "id": "433dc46f",
   "metadata": {},
   "outputs": [],
   "source": [
    "std = StandardScaler()"
   ]
  },
  {
   "cell_type": "code",
   "execution_count": 15,
   "id": "47feb5db",
   "metadata": {},
   "outputs": [],
   "source": [
    "Standard_new =  std.fit_transform(X)"
   ]
  },
  {
   "cell_type": "code",
   "execution_count": 16,
   "id": "5b282dfd",
   "metadata": {},
   "outputs": [
    {
     "data": {
      "text/plain": [
       "array([[ 0.9521966 ,  0.68100522,  1.97312292, ..., -2.27457861,\n",
       "        -0.71442887, -2.14887271],\n",
       "       [-1.91531289,  0.68100522,  1.00257707, ..., -2.27457861,\n",
       "        -0.71442887, -0.51292188],\n",
       "       [-1.47415758, -1.46841752,  0.03203122, ...,  0.97635214,\n",
       "        -0.71442887, -0.51292188],\n",
       "       ...,\n",
       "       [ 1.50364073,  0.68100522, -0.93851463, ..., -0.64911323,\n",
       "         1.24459328,  1.12302895],\n",
       "       [ 0.29046364,  0.68100522, -0.93851463, ..., -0.64911323,\n",
       "         0.26508221,  1.12302895],\n",
       "       [ 0.29046364, -1.46841752,  0.03203122, ..., -0.64911323,\n",
       "         0.26508221, -0.51292188]])"
      ]
     },
     "execution_count": 16,
     "metadata": {},
     "output_type": "execute_result"
    }
   ],
   "source": [
    "Standard_new"
   ]
  },
  {
   "cell_type": "code",
   "execution_count": 17,
   "id": "bb30778c",
   "metadata": {},
   "outputs": [
    {
     "data": {
      "image/png": "[encoded data removed]",
      "text/plain": [
       "<Figure size 720x720 with 16 Axes>"
      ]
     },
     "metadata": {
      "needs_background": "light"
     },
     "output_type": "display_data"
    }
   ],
   "source": [
    "dataset.hist(figsize=(10,10))\n",
    "plt.show()"
   ]
  },
  {
   "cell_type": "code",
   "execution_count": 18,
   "id": "54991a97",
   "metadata": {},
   "outputs": [
    {
     "data": {
      "image/png": "[encoded data removed]",
      "text/plain": [
       "<Figure size 432x288 with 1 Axes>"
      ]
     },
     "metadata": {
      "needs_background": "light"
     },
     "output_type": "display_data"
    }
   ],
   "source": [
    "plt.bar(dataset['target'].unique(), dataset['target'].value_counts(), color = ['red', 'blue'])\n",
    "plt.xticks([0, 1])\n",
    "plt.xlabel('Target Classes')\n",
    "plt.ylabel('Count')\n",
    "plt.title('Count of each Target Class')\n",
    "plt.show()"
   ]
  },
  {
   "cell_type": "markdown",
   "id": "60c76655",
   "metadata": {},
   "source": [
    "### Spliting Data "
   ]
  },
  {
   "cell_type": "code",
   "execution_count": 19,
   "id": "dacda1e1",
   "metadata": {},
   "outputs": [],
   "source": [
    "from sklearn.model_selection import train_test_split"
   ]
  },
  {
   "cell_type": "code",
   "execution_count": 20,
   "id": "1ce4aa62",
   "metadata": {},
   "outputs": [],
   "source": [
    "X_train,X_test,y_train,y_test = train_test_split(X,y,train_size =0.25,random_state = 0)"
   ]
  },
  {
   "cell_type": "code",
   "execution_count": 21,
   "id": "96a102c9",
   "metadata": {},
   "outputs": [
    {
     "data": {
      "text/plain": [
       "(75,)"
      ]
     },
     "execution_count": 21,
     "metadata": {},
     "output_type": "execute_result"
    }
   ],
   "source": [
    "y_train.shape"
   ]
  },
  {
   "cell_type": "markdown",
   "id": "d6ecd92f",
   "metadata": {},
   "source": [
    "### Decision tree"
   ]
  },
  {
   "cell_type": "code",
   "execution_count": 22,
   "id": "ee93d44e",
   "metadata": {},
   "outputs": [],
   "source": [
    "from sklearn.tree import DecisionTreeClassifier"
   ]
  },
  {
   "cell_type": "code",
   "execution_count": 23,
   "id": "f2000c85",
   "metadata": {},
   "outputs": [],
   "source": [
    "tree_classifier = DecisionTreeClassifier()"
   ]
  },
  {
   "cell_type": "code",
   "execution_count": 24,
   "id": "fca4812b",
   "metadata": {},
   "outputs": [
    {
     "data": {
      "text/plain": [
       "DecisionTreeClassifier()"
      ]
     },
     "execution_count": 24,
     "metadata": {},
     "output_type": "execute_result"
    }
   ],
   "source": [
    "tree_classifier.fit(X_train,y_train)"
   ]
  },
  {
   "cell_type": "code",
   "execution_count": 25,
   "id": "541281bd",
   "metadata": {},
   "outputs": [],
   "source": [
    "y_pred = tree_classifier.predict(X_test)"
   ]
  },
  {
   "cell_type": "code",
   "execution_count": 26,
   "id": "0cd3f181",
   "metadata": {},
   "outputs": [],
   "source": [
    "df = pd.DataFrame({\"actual\":y_test,\"predicted\":y_pred})"
   ]
  },
  {
   "cell_type": "code",
   "execution_count": 27,
   "id": "6006a63f",
   "metadata": {},
   "outputs": [
    {
     "data": {
      "text/html": [
       "<div>\n",
       "<style scoped>\n",
       "    .dataframe tbody tr th:only-of-type {\n",
       "        vertical-align: middle;\n",
       "    }\n",
       "\n",
       "    .dataframe tbody tr th {\n",
       "        vertical-align: top;\n",
       "    }\n",
       "\n",
       "    .dataframe thead th {\n",
       "        text-align: right;\n",
       "    }\n",
       "</style>\n",
       "<table border=\"1\" class=\"dataframe\">\n",
       "  <thead>\n",
       "    <tr style=\"text-align: right;\">\n",
       "      <th></th>\n",
       "      <th>actual</th>\n",
       "      <th>predicted</th>\n",
       "    </tr>\n",
       "  </thead>\n",
       "  <tbody>\n",
       "    <tr>\n",
       "      <th>225</th>\n",
       "      <td>0</td>\n",
       "      <td>1</td>\n",
       "    </tr>\n",
       "    <tr>\n",
       "      <th>152</th>\n",
       "      <td>1</td>\n",
       "      <td>1</td>\n",
       "    </tr>\n",
       "    <tr>\n",
       "      <th>228</th>\n",
       "      <td>0</td>\n",
       "      <td>0</td>\n",
       "    </tr>\n",
       "    <tr>\n",
       "      <th>201</th>\n",
       "      <td>0</td>\n",
       "      <td>0</td>\n",
       "    </tr>\n",
       "    <tr>\n",
       "      <th>52</th>\n",
       "      <td>1</td>\n",
       "      <td>0</td>\n",
       "    </tr>\n",
       "    <tr>\n",
       "      <th>...</th>\n",
       "      <td>...</td>\n",
       "      <td>...</td>\n",
       "    </tr>\n",
       "    <tr>\n",
       "      <th>301</th>\n",
       "      <td>0</td>\n",
       "      <td>0</td>\n",
       "    </tr>\n",
       "    <tr>\n",
       "      <th>196</th>\n",
       "      <td>0</td>\n",
       "      <td>1</td>\n",
       "    </tr>\n",
       "    <tr>\n",
       "      <th>6</th>\n",
       "      <td>1</td>\n",
       "      <td>1</td>\n",
       "    </tr>\n",
       "    <tr>\n",
       "      <th>68</th>\n",
       "      <td>1</td>\n",
       "      <td>1</td>\n",
       "    </tr>\n",
       "    <tr>\n",
       "      <th>203</th>\n",
       "      <td>0</td>\n",
       "      <td>0</td>\n",
       "    </tr>\n",
       "  </tbody>\n",
       "</table>\n",
       "<p>228 rows × 2 columns</p>\n",
       "</div>"
      ],
      "text/plain": [
       "     actual  predicted\n",
       "225       0          1\n",
       "152       1          1\n",
       "228       0          0\n",
       "201       0          0\n",
       "52        1          0\n",
       "..      ...        ...\n",
       "301       0          0\n",
       "196       0          1\n",
       "6         1          1\n",
       "68        1          1\n",
       "203       0          0\n",
       "\n",
       "[228 rows x 2 columns]"
      ]
     },
     "execution_count": 27,
     "metadata": {},
     "output_type": "execute_result"
    }
   ],
   "source": [
    "df"
   ]
  },
  {
   "cell_type": "code",
   "execution_count": 28,
   "id": "c055a76c",
   "metadata": {},
   "outputs": [],
   "source": [
    "from sklearn.metrics import confusion_matrix,classification_report,accuracy_score\n"
   ]
  },
  {
   "cell_type": "code",
   "execution_count": 29,
   "id": "8f800683",
   "metadata": {},
   "outputs": [
    {
     "name": "stdout",
     "output_type": "stream",
     "text": [
      "[[ 62  41]\n",
      " [ 19 106]]\n"
     ]
    }
   ],
   "source": [
    "print(confusion_matrix(y_test,y_pred))\n"
   ]
  },
  {
   "cell_type": "code",
   "execution_count": 30,
   "id": "7b6c0c0b",
   "metadata": {},
   "outputs": [
    {
     "name": "stdout",
     "output_type": "stream",
     "text": [
      "              precision    recall  f1-score   support\n",
      "\n",
      "           0       0.77      0.60      0.67       103\n",
      "           1       0.72      0.85      0.78       125\n",
      "\n",
      "    accuracy                           0.74       228\n",
      "   macro avg       0.74      0.72      0.73       228\n",
      "weighted avg       0.74      0.74      0.73       228\n",
      "\n"
     ]
    }
   ],
   "source": [
    "print(classification_report(y_test,y_pred))"
   ]
  },
  {
   "cell_type": "code",
   "execution_count": 31,
   "id": "b026f8f9",
   "metadata": {},
   "outputs": [
    {
     "name": "stdout",
     "output_type": "stream",
     "text": [
      "73.68421052631578\n"
     ]
    }
   ],
   "source": [
    " print(accuracy_score(y_test,y_pred)*100)\n"
   ]
  },
  {
   "cell_type": "code",
   "execution_count": 32,
   "id": "c2b01057",
   "metadata": {},
   "outputs": [],
   "source": [
    "from sklearn.metrics import mean_squared_error,mean_absolute_error\n"
   ]
  },
  {
   "cell_type": "code",
   "execution_count": 33,
   "id": "863d6d4f",
   "metadata": {},
   "outputs": [
    {
     "data": {
      "text/plain": [
       "0.2631578947368421"
      ]
     },
     "execution_count": 33,
     "metadata": {},
     "output_type": "execute_result"
    }
   ],
   "source": [
    " mean_squared_error(y_test,y_pred)\n"
   ]
  },
  {
   "cell_type": "code",
   "execution_count": 34,
   "id": "c5b14e70",
   "metadata": {},
   "outputs": [
    {
     "data": {
      "text/plain": [
       "0.2631578947368421"
      ]
     },
     "execution_count": 34,
     "metadata": {},
     "output_type": "execute_result"
    }
   ],
   "source": [
    " mean_absolute_error(y_test,y_pred)\n"
   ]
  },
  {
   "cell_type": "code",
   "execution_count": null,
   "id": "2fb03bff",
   "metadata": {},
   "outputs": [],
   "source": []
  },
  {
   "cell_type": "code",
   "execution_count": null,
   "id": "5f86c1bc",
   "metadata": {},
   "outputs": [],
   "source": []
  },
  {
   "cell_type": "markdown",
   "id": "752d308a",
   "metadata": {},
   "source": [
    "### Random Forest"
   ]
  },
  {
   "cell_type": "code",
   "execution_count": 35,
   "id": "2983605e",
   "metadata": {},
   "outputs": [],
   "source": [
    "from sklearn.ensemble import RandomForestClassifier"
   ]
  },
  {
   "cell_type": "code",
   "execution_count": 36,
   "id": "a7e25f5b",
   "metadata": {},
   "outputs": [],
   "source": [
    "classifier = RandomForestClassifier()"
   ]
  },
  {
   "cell_type": "code",
   "execution_count": 37,
   "id": "47e11607",
   "metadata": {},
   "outputs": [
    {
     "data": {
      "text/plain": [
       "RandomForestClassifier()"
      ]
     },
     "execution_count": 37,
     "metadata": {},
     "output_type": "execute_result"
    }
   ],
   "source": [
    "classifier.fit(X_train, y_train)"
   ]
  },
  {
   "cell_type": "code",
   "execution_count": 38,
   "id": "a2393ab3",
   "metadata": {},
   "outputs": [],
   "source": [
    "y_pred = classifier.predict(X_test)"
   ]
  },
  {
   "cell_type": "code",
   "execution_count": 39,
   "id": "c8edca48",
   "metadata": {},
   "outputs": [],
   "source": [
    "df = pd.DataFrame({\"actual\":y_test,\"prediced\":y_pred})"
   ]
  },
  {
   "cell_type": "code",
   "execution_count": 40,
   "id": "a2bd2f22",
   "metadata": {},
   "outputs": [
    {
     "data": {
      "text/html": [
       "<div>\n",
       "<style scoped>\n",
       "    .dataframe tbody tr th:only-of-type {\n",
       "        vertical-align: middle;\n",
       "    }\n",
       "\n",
       "    .dataframe tbody tr th {\n",
       "        vertical-align: top;\n",
       "    }\n",
       "\n",
       "    .dataframe thead th {\n",
       "        text-align: right;\n",
       "    }\n",
       "</style>\n",
       "<table border=\"1\" class=\"dataframe\">\n",
       "  <thead>\n",
       "    <tr style=\"text-align: right;\">\n",
       "      <th></th>\n",
       "      <th>actual</th>\n",
       "      <th>prediced</th>\n",
       "    </tr>\n",
       "  </thead>\n",
       "  <tbody>\n",
       "    <tr>\n",
       "      <th>225</th>\n",
       "      <td>0</td>\n",
       "      <td>0</td>\n",
       "    </tr>\n",
       "    <tr>\n",
       "      <th>152</th>\n",
       "      <td>1</td>\n",
       "      <td>1</td>\n",
       "    </tr>\n",
       "    <tr>\n",
       "      <th>228</th>\n",
       "      <td>0</td>\n",
       "      <td>0</td>\n",
       "    </tr>\n",
       "    <tr>\n",
       "      <th>201</th>\n",
       "      <td>0</td>\n",
       "      <td>0</td>\n",
       "    </tr>\n",
       "    <tr>\n",
       "      <th>52</th>\n",
       "      <td>1</td>\n",
       "      <td>0</td>\n",
       "    </tr>\n",
       "    <tr>\n",
       "      <th>...</th>\n",
       "      <td>...</td>\n",
       "      <td>...</td>\n",
       "    </tr>\n",
       "    <tr>\n",
       "      <th>301</th>\n",
       "      <td>0</td>\n",
       "      <td>0</td>\n",
       "    </tr>\n",
       "    <tr>\n",
       "      <th>196</th>\n",
       "      <td>0</td>\n",
       "      <td>1</td>\n",
       "    </tr>\n",
       "    <tr>\n",
       "      <th>6</th>\n",
       "      <td>1</td>\n",
       "      <td>1</td>\n",
       "    </tr>\n",
       "    <tr>\n",
       "      <th>68</th>\n",
       "      <td>1</td>\n",
       "      <td>1</td>\n",
       "    </tr>\n",
       "    <tr>\n",
       "      <th>203</th>\n",
       "      <td>0</td>\n",
       "      <td>0</td>\n",
       "    </tr>\n",
       "  </tbody>\n",
       "</table>\n",
       "<p>228 rows × 2 columns</p>\n",
       "</div>"
      ],
      "text/plain": [
       "     actual  prediced\n",
       "225       0         0\n",
       "152       1         1\n",
       "228       0         0\n",
       "201       0         0\n",
       "52        1         0\n",
       "..      ...       ...\n",
       "301       0         0\n",
       "196       0         1\n",
       "6         1         1\n",
       "68        1         1\n",
       "203       0         0\n",
       "\n",
       "[228 rows x 2 columns]"
      ]
     },
     "execution_count": 40,
     "metadata": {},
     "output_type": "execute_result"
    }
   ],
   "source": [
    "df"
   ]
  },
  {
   "cell_type": "code",
   "execution_count": 41,
   "id": "aa5d770f",
   "metadata": {},
   "outputs": [
    {
     "name": "stdout",
     "output_type": "stream",
     "text": [
      "[[ 80  23]\n",
      " [ 19 106]]\n"
     ]
    }
   ],
   "source": [
    "print(confusion_matrix(y_test,y_pred))"
   ]
  },
  {
   "cell_type": "code",
   "execution_count": 42,
   "id": "f5c3ed80",
   "metadata": {},
   "outputs": [
    {
     "name": "stdout",
     "output_type": "stream",
     "text": [
      "81.57894736842105\n"
     ]
    }
   ],
   "source": [
    "print(accuracy_score(y_test,y_pred)*100)\n"
   ]
  },
  {
   "cell_type": "code",
   "execution_count": 43,
   "id": "9aa171b9",
   "metadata": {},
   "outputs": [
    {
     "name": "stdout",
     "output_type": "stream",
     "text": [
      "              precision    recall  f1-score   support\n",
      "\n",
      "           0       0.81      0.78      0.79       103\n",
      "           1       0.82      0.85      0.83       125\n",
      "\n",
      "    accuracy                           0.82       228\n",
      "   macro avg       0.81      0.81      0.81       228\n",
      "weighted avg       0.82      0.82      0.82       228\n",
      "              precision    recall  f1-score   support\n",
      "\n",
      "           0       0.81      0.78      0.79       103\n",
      "           1       0.82      0.85      0.83       125\n",
      "\n",
      "    accuracy                           0.82       228\n",
      "   macro avg       0.81      0.81      0.81       228\n",
      "weighted avg       0.82      0.82      0.82       228\n",
      "              precision    recall  f1-score   support\n",
      "\n",
      "           0       0.81      0.78      0.79       103\n",
      "           1       0.82      0.85      0.83       125\n",
      "\n",
      "    accuracy                           0.82       228\n",
      "   macro avg       0.81      0.81      0.81       228\n",
      "weighted avg       0.82      0.82      0.82       228\n",
      "              precision    recall  f1-score   support\n",
      "\n",
      "           0       0.81      0.78      0.79       103\n",
      "           1       0.82      0.85      0.83       125\n",
      "\n",
      "    accuracy                           0.82       228\n",
      "   macro avg       0.81      0.81      0.81       228\n",
      "weighted avg       0.82      0.82      0.82       228\n",
      "              precision    recall  f1-score   support\n",
      "\n",
      "           0       0.81      0.78      0.79       103\n",
      "           1       0.82      0.85      0.83       125\n",
      "\n",
      "    accuracy                           0.82       228\n",
      "   macro avg       0.81      0.81      0.81       228\n",
      "weighted avg       0.82      0.82      0.82       228\n",
      "              precision    recall  f1-score   support\n",
      "\n",
      "           0       0.81      0.78      0.79       103\n",
      "           1       0.82      0.85      0.83       125\n",
      "\n",
      "    accuracy                           0.82       228\n",
      "   macro avg       0.81      0.81      0.81       228\n",
      "weighted avg       0.82      0.82      0.82       228\n",
      "              precision    recall  f1-score   support\n",
      "\n",
      "           0       0.81      0.78      0.79       103\n",
      "           1       0.82      0.85      0.83       125\n",
      "\n",
      "    accuracy                           0.82       228\n",
      "   macro avg       0.81      0.81      0.81       228\n",
      "weighted avg       0.82      0.82      0.82       228\n",
      "              precision    recall  f1-score   support\n",
      "\n",
      "           0       0.81      0.78      0.79       103\n",
      "           1       0.82      0.85      0.83       125\n",
      "\n",
      "    accuracy                           0.82       228\n",
      "   macro avg       0.81      0.81      0.81       228\n",
      "weighted avg       0.82      0.82      0.82       228\n",
      "              precision    recall  f1-score   support\n",
      "\n",
      "           0       0.81      0.78      0.79       103\n",
      "           1       0.82      0.85      0.83       125\n",
      "\n",
      "    accuracy                           0.82       228\n",
      "   macro avg       0.81      0.81      0.81       228\n",
      "weighted avg       0.82      0.82      0.82       228\n",
      "              precision    recall  f1-score   support\n",
      "\n",
      "           0       0.81      0.78      0.79       103\n",
      "           1       0.82      0.85      0.83       125\n",
      "\n",
      "    accuracy                           0.82       228\n",
      "   macro avg       0.81      0.81      0.81       228\n",
      "weighted avg       0.82      0.82      0.82       228\n",
      "              precision    recall  f1-score   support\n",
      "\n",
      "           0       0.81      0.78      0.79       103\n",
      "           1       0.82      0.85      0.83       125\n",
      "\n",
      "    accuracy                           0.82       228\n",
      "   macro avg       0.81      0.81      0.81       228\n",
      "weighted avg       0.82      0.82      0.82       228\n",
      "              precision    recall  f1-score   support\n",
      "\n",
      "           0       0.81      0.78      0.79       103\n",
      "           1       0.82      0.85      0.83       125\n",
      "\n",
      "    accuracy                           0.82       228\n",
      "   macro avg       0.81      0.81      0.81       228\n",
      "weighted avg       0.82      0.82      0.82       228\n",
      "              precision    recall  f1-score   support\n",
      "\n",
      "           0       0.81      0.78      0.79       103\n",
      "           1       0.82      0.85      0.83       125\n",
      "\n",
      "    accuracy                           0.82       228\n",
      "   macro avg       0.81      0.81      0.81       228\n",
      "weighted avg       0.82      0.82      0.82       228\n",
      "              precision    recall  f1-score   support\n",
      "\n",
      "           0       0.81      0.78      0.79       103\n",
      "           1       0.82      0.85      0.83       125\n",
      "\n",
      "    accuracy                           0.82       228\n",
      "   macro avg       0.81      0.81      0.81       228\n",
      "weighted avg       0.82      0.82      0.82       228\n",
      "              precision    recall  f1-score   support\n",
      "\n",
      "           0       0.81      0.78      0.79       103\n",
      "           1       0.82      0.85      0.83       125\n",
      "\n",
      "    accuracy                           0.82       228\n",
      "   macro avg       0.81      0.81      0.81       228\n",
      "weighted avg       0.82      0.82      0.82       228\n",
      "              precision    recall  f1-score   support\n",
      "\n",
      "           0       0.81      0.78      0.79       103\n",
      "           1       0.82      0.85      0.83       125\n",
      "\n",
      "    accuracy                           0.82       228\n",
      "   macro avg       0.81      0.81      0.81       228\n",
      "weighted avg       0.82      0.82      0.82       228\n",
      "              precision    recall  f1-score   support\n",
      "\n",
      "           0       0.81      0.78      0.79       103\n",
      "           1       0.82      0.85      0.83       125\n",
      "\n",
      "    accuracy                           0.82       228\n",
      "   macro avg       0.81      0.81      0.81       228\n",
      "weighted avg       0.82      0.82      0.82       228\n",
      "              precision    recall  f1-score   support\n",
      "\n",
      "           0       0.81      0.78      0.79       103\n",
      "           1       0.82      0.85      0.83       125\n",
      "\n",
      "    accuracy                           0.82       228\n",
      "   macro avg       0.81      0.81      0.81       228\n",
      "weighted avg       0.82      0.82      0.82       228\n",
      "              precision    recall  f1-score   support\n",
      "\n",
      "           0       0.81      0.78      0.79       103\n",
      "           1       0.82      0.85      0.83       125\n",
      "\n",
      "    accuracy                           0.82       228\n",
      "   macro avg       0.81      0.81      0.81       228\n",
      "weighted avg       0.82      0.82      0.82       228\n",
      "              precision    recall  f1-score   support\n",
      "\n",
      "           0       0.81      0.78      0.79       103\n",
      "           1       0.82      0.85      0.83       125\n",
      "\n",
      "    accuracy                           0.82       228\n",
      "   macro avg       0.81      0.81      0.81       228\n",
      "weighted avg       0.82      0.82      0.82       228\n",
      "              precision    recall  f1-score   support\n",
      "\n",
      "           0       0.81      0.78      0.79       103\n",
      "           1       0.82      0.85      0.83       125\n",
      "\n",
      "    accuracy                           0.82       228\n",
      "   macro avg       0.81      0.81      0.81       228\n",
      "weighted avg       0.82      0.82      0.82       228\n",
      "              precision    recall  f1-score   support\n",
      "\n",
      "           0       0.81      0.78      0.79       103\n",
      "           1       0.82      0.85      0.83       125\n",
      "\n",
      "    accuracy                           0.82       228\n",
      "   macro avg       0.81      0.81      0.81       228\n",
      "weighted avg       0.82      0.82      0.82       228\n",
      "              precision    recall  f1-score   support\n",
      "\n",
      "           0       0.81      0.78      0.79       103\n",
      "           1       0.82      0.85      0.83       125\n",
      "\n",
      "    accuracy                           0.82       228\n",
      "   macro avg       0.81      0.81      0.81       228\n",
      "weighted avg       0.82      0.82      0.82       228\n",
      "              precision    recall  f1-score   support\n",
      "\n",
      "           0       0.81      0.78      0.79       103\n",
      "           1       0.82      0.85      0.83       125\n",
      "\n",
      "    accuracy                           0.82       228\n",
      "   macro avg       0.81      0.81      0.81       228\n",
      "weighted avg       0.82      0.82      0.82       228\n",
      "              precision    recall  f1-score   support\n",
      "\n",
      "           0       0.81      0.78      0.79       103\n",
      "           1       0.82      0.85      0.83       125\n",
      "\n",
      "    accuracy                           0.82       228\n",
      "   macro avg       0.81      0.81      0.81       228\n",
      "weighted avg       0.82      0.82      0.82       228\n",
      "              precision    recall  f1-score   support\n",
      "\n",
      "           0       0.81      0.78      0.79       103\n",
      "           1       0.82      0.85      0.83       125\n",
      "\n",
      "    accuracy                           0.82       228\n",
      "   macro avg       0.81      0.81      0.81       228\n",
      "weighted avg       0.82      0.82      0.82       228\n",
      "              precision    recall  f1-score   support\n",
      "\n",
      "           0       0.81      0.78      0.79       103\n",
      "           1       0.82      0.85      0.83       125\n",
      "\n",
      "    accuracy                           0.82       228\n",
      "   macro avg       0.81      0.81      0.81       228\n",
      "weighted avg       0.82      0.82      0.82       228\n",
      "              precision    recall  f1-score   support\n",
      "\n",
      "           0       0.81      0.78      0.79       103\n",
      "           1       0.82      0.85      0.83       125\n",
      "\n",
      "    accuracy                           0.82       228\n",
      "   macro avg       0.81      0.81      0.81       228\n",
      "weighted avg       0.82      0.82      0.82       228\n",
      "              precision    recall  f1-score   support\n",
      "\n",
      "           0       0.81      0.78      0.79       103\n",
      "           1       0.82      0.85      0.83       125\n",
      "\n",
      "    accuracy                           0.82       228\n",
      "   macro avg       0.81      0.81      0.81       228\n",
      "weighted avg       0.82      0.82      0.82       228\n",
      "              precision    recall  f1-score   support\n",
      "\n",
      "           0       0.81      0.78      0.79       103\n",
      "           1       0.82      0.85      0.83       125\n",
      "\n",
      "    accuracy                           0.82       228\n",
      "   macro avg       0.81      0.81      0.81       228\n",
      "weighted avg       0.82      0.82      0.82       228\n",
      "              precision    recall  f1-score   support\n",
      "\n",
      "           0       0.81      0.78      0.79       103\n",
      "           1       0.82      0.85      0.83       125\n",
      "\n",
      "    accuracy                           0.82       228\n",
      "   macro avg       0.81      0.81      0.81       228\n",
      "weighted avg       0.82      0.82      0.82       228\n",
      "              precision    recall  f1-score   support\n",
      "\n",
      "           0       0.81      0.78      0.79       103\n",
      "           1       0.82      0.85      0.83       125\n",
      "\n",
      "    accuracy                           0.82       228\n",
      "   macro avg       0.81      0.81      0.81       228\n",
      "weighted avg       0.82      0.82      0.82       228\n",
      "              precision    recall  f1-score   support\n",
      "\n",
      "           0       0.81      0.78      0.79       103\n",
      "           1       0.82      0.85      0.83       125\n",
      "\n",
      "    accuracy                           0.82       228\n",
      "   macro avg       0.81      0.81      0.81       228\n",
      "weighted avg       0.82      0.82      0.82       228\n",
      "              precision    recall  f1-score   support\n",
      "\n",
      "           0       0.81      0.78      0.79       103\n",
      "           1       0.82      0.85      0.83       125\n",
      "\n",
      "    accuracy                           0.82       228\n",
      "   macro avg       0.81      0.81      0.81       228\n",
      "weighted avg       0.82      0.82      0.82       228\n",
      "              precision    recall  f1-score   support\n",
      "\n",
      "           0       0.81      0.78      0.79       103\n",
      "           1       0.82      0.85      0.83       125\n",
      "\n",
      "    accuracy                           0.82       228\n",
      "   macro avg       0.81      0.81      0.81       228\n",
      "weighted avg       0.82      0.82      0.82       228\n",
      "              precision    recall  f1-score   support\n",
      "\n",
      "           0       0.81      0.78      0.79       103\n",
      "           1       0.82      0.85      0.83       125\n",
      "\n",
      "    accuracy                           0.82       228\n",
      "   macro avg       0.81      0.81      0.81       228\n",
      "weighted avg       0.82      0.82      0.82       228\n",
      "              precision    recall  f1-score   support\n",
      "\n",
      "           0       0.81      0.78      0.79       103\n",
      "           1       0.82      0.85      0.83       125\n",
      "\n",
      "    accuracy                           0.82       228\n",
      "   macro avg       0.81      0.81      0.81       228\n",
      "weighted avg       0.82      0.82      0.82       228\n",
      "              precision    recall  f1-score   support\n",
      "\n",
      "           0       0.81      0.78      0.79       103\n",
      "           1       0.82      0.85      0.83       125\n",
      "\n",
      "    accuracy                           0.82       228\n",
      "   macro avg       0.81      0.81      0.81       228\n",
      "weighted avg       0.82      0.82      0.82       228\n",
      "              precision    recall  f1-score   support\n",
      "\n",
      "           0       0.81      0.78      0.79       103\n",
      "           1       0.82      0.85      0.83       125\n",
      "\n",
      "    accuracy                           0.82       228\n",
      "   macro avg       0.81      0.81      0.81       228\n",
      "weighted avg       0.82      0.82      0.82       228\n",
      "              precision    recall  f1-score   support\n",
      "\n",
      "           0       0.81      0.78      0.79       103\n",
      "           1       0.82      0.85      0.83       125\n",
      "\n",
      "    accuracy                           0.82       228\n",
      "   macro avg       0.81      0.81      0.81       228\n",
      "weighted avg       0.82      0.82      0.82       228\n",
      "              precision    recall  f1-score   support\n",
      "\n",
      "           0       0.81      0.78      0.79       103\n",
      "           1       0.82      0.85      0.83       125\n",
      "\n",
      "    accuracy                           0.82       228\n",
      "   macro avg       0.81      0.81      0.81       228\n",
      "weighted avg       0.82      0.82      0.82       228\n",
      "              precision    recall  f1-score   support\n",
      "\n",
      "           0       0.81      0.78      0.79       103\n",
      "           1       0.82      0.85      0.83       125\n",
      "\n",
      "    accuracy                           0.82       228\n",
      "   macro avg       0.81      0.81      0.81       228\n",
      "weighted avg       0.82      0.82      0.82       228\n",
      "              precision    recall  f1-score   support\n",
      "\n",
      "           0       0.81      0.78      0.79       103\n",
      "           1       0.82      0.85      0.83       125\n",
      "\n",
      "    accuracy                           0.82       228\n",
      "   macro avg       0.81      0.81      0.81       228\n",
      "weighted avg       0.82      0.82      0.82       228\n",
      "              precision    recall  f1-score   support\n",
      "\n",
      "           0       0.81      0.78      0.79       103\n",
      "           1       0.82      0.85      0.83       125\n",
      "\n",
      "    accuracy                           0.82       228\n",
      "   macro avg       0.81      0.81      0.81       228\n",
      "weighted avg       0.82      0.82      0.82       228\n",
      "              precision    recall  f1-score   support\n",
      "\n",
      "           0       0.81      0.78      0.79       103\n",
      "           1       0.82      0.85      0.83       125\n",
      "\n",
      "    accuracy                           0.82       228\n",
      "   macro avg       0.81      0.81      0.81       228\n",
      "weighted avg       0.82      0.82      0.82       228\n",
      "              precision    recall  f1-score   support\n",
      "\n",
      "           0       0.81      0.78      0.79       103\n",
      "           1       0.82      0.85      0.83       125\n",
      "\n",
      "    accuracy                           0.82       228\n",
      "   macro avg       0.81      0.81      0.81       228\n",
      "weighted avg       0.82      0.82      0.82       228\n",
      "              precision    recall  f1-score   support\n",
      "\n",
      "           0       0.81      0.78      0.79       103\n",
      "           1       0.82      0.85      0.83       125\n",
      "\n",
      "    accuracy                           0.82       228\n",
      "   macro avg       0.81      0.81      0.81       228\n",
      "weighted avg       0.82      0.82      0.82       228\n",
      "              precision    recall  f1-score   support\n",
      "\n",
      "           0       0.81      0.78      0.79       103\n",
      "           1       0.82      0.85      0.83       125\n",
      "\n",
      "    accuracy                           0.82       228\n",
      "   macro avg       0.81      0.81      0.81       228\n",
      "weighted avg       0.82      0.82      0.82       228\n",
      "              precision    recall  f1-score   support\n",
      "\n",
      "           0       0.81      0.78      0.79       103\n",
      "           1       0.82      0.85      0.83       125\n",
      "\n",
      "    accuracy                           0.82       228\n",
      "   macro avg       0.81      0.81      0.81       228\n",
      "weighted avg       0.82      0.82      0.82       228\n",
      "              precision    recall  f1-score   support\n",
      "\n",
      "           0       0.81      0.78      0.79       103\n",
      "           1       0.82      0.85      0.83       125\n",
      "\n",
      "    accuracy                           0.82       228\n",
      "   macro avg       0.81      0.81      0.81       228\n",
      "weighted avg       0.82      0.82      0.82       228\n",
      "              precision    recall  f1-score   support\n",
      "\n",
      "           0       0.81      0.78      0.79       103\n",
      "           1       0.82      0.85      0.83       125\n",
      "\n",
      "    accuracy                           0.82       228\n",
      "   macro avg       0.81      0.81      0.81       228\n",
      "weighted avg       0.82      0.82      0.82       228\n",
      "              precision    recall  f1-score   support\n",
      "\n",
      "           0       0.81      0.78      0.79       103\n",
      "           1       0.82      0.85      0.83       125\n",
      "\n",
      "    accuracy                           0.82       228\n",
      "   macro avg       0.81      0.81      0.81       228\n",
      "weighted avg       0.82      0.82      0.82       228\n",
      "              precision    recall  f1-score   support\n",
      "\n",
      "           0       0.81      0.78      0.79       103\n",
      "           1       0.82      0.85      0.83       125\n",
      "\n",
      "    accuracy                           0.82       228\n",
      "   macro avg       0.81      0.81      0.81       228\n",
      "weighted avg       0.82      0.82      0.82       228\n",
      "              precision    recall  f1-score   support\n",
      "\n",
      "           0       0.81      0.78      0.79       103\n",
      "           1       0.82      0.85      0.83       125\n",
      "\n",
      "    accuracy                           0.82       228\n",
      "   macro avg       0.81      0.81      0.81       228\n",
      "weighted avg       0.82      0.82      0.82       228\n",
      "              precision    recall  f1-score   support\n",
      "\n",
      "           0       0.81      0.78      0.79       103\n",
      "           1       0.82      0.85      0.83       125\n",
      "\n",
      "    accuracy                           0.82       228\n",
      "   macro avg       0.81      0.81      0.81       228\n",
      "weighted avg       0.82      0.82      0.82       228\n",
      "              precision    recall  f1-score   support\n",
      "\n",
      "           0       0.81      0.78      0.79       103\n",
      "           1       0.82      0.85      0.83       125\n",
      "\n",
      "    accuracy                           0.82       228\n",
      "   macro avg       0.81      0.81      0.81       228\n",
      "weighted avg       0.82      0.82      0.82       228\n",
      "              precision    recall  f1-score   support\n",
      "\n",
      "           0       0.81      0.78      0.79       103\n",
      "           1       0.82      0.85      0.83       125\n",
      "\n",
      "    accuracy                           0.82       228\n",
      "   macro avg       0.81      0.81      0.81       228\n",
      "weighted avg       0.82      0.82      0.82       228\n",
      "              precision    recall  f1-score   support\n",
      "\n",
      "           0       0.81      0.78      0.79       103\n",
      "           1       0.82      0.85      0.83       125\n",
      "\n",
      "    accuracy                           0.82       228\n",
      "   macro avg       0.81      0.81      0.81       228\n",
      "weighted avg       0.82      0.82      0.82       228\n",
      "              precision    recall  f1-score   support\n",
      "\n",
      "           0       0.81      0.78      0.79       103\n",
      "           1       0.82      0.85      0.83       125\n",
      "\n",
      "    accuracy                           0.82       228\n",
      "   macro avg       0.81      0.81      0.81       228\n",
      "weighted avg       0.82      0.82      0.82       228\n",
      "              precision    recall  f1-score   support\n",
      "\n",
      "           0       0.81      0.78      0.79       103\n",
      "           1       0.82      0.85      0.83       125\n",
      "\n",
      "    accuracy                           0.82       228\n",
      "   macro avg       0.81      0.81      0.81       228\n",
      "weighted avg       0.82      0.82      0.82       228\n",
      "              precision    recall  f1-score   support\n",
      "\n",
      "           0       0.81      0.78      0.79       103\n",
      "           1       0.82      0.85      0.83       125\n",
      "\n",
      "    accuracy                           0.82       228\n",
      "   macro avg       0.81      0.81      0.81       228\n",
      "weighted avg       0.82      0.82      0.82       228\n",
      "              precision    recall  f1-score   support\n",
      "\n",
      "           0       0.81      0.78      0.79       103\n",
      "           1       0.82      0.85      0.83       125\n",
      "\n",
      "    accuracy                           0.82       228\n",
      "   macro avg       0.81      0.81      0.81       228\n",
      "weighted avg       0.82      0.82      0.82       228\n",
      "              precision    recall  f1-score   support\n",
      "\n",
      "           0       0.81      0.78      0.79       103\n",
      "           1       0.82      0.85      0.83       125\n",
      "\n",
      "    accuracy                           0.82       228\n",
      "   macro avg       0.81      0.81      0.81       228\n",
      "weighted avg       0.82      0.82      0.82       228\n",
      "              precision    recall  f1-score   support\n",
      "\n",
      "           0       0.81      0.78      0.79       103\n",
      "           1       0.82      0.85      0.83       125\n",
      "\n",
      "    accuracy                           0.82       228\n",
      "   macro avg       0.81      0.81      0.81       228\n",
      "weighted avg       0.82      0.82      0.82       228\n",
      "              precision    recall  f1-score   support\n",
      "\n",
      "           0       0.81      0.78      0.79       103\n",
      "           1       0.82      0.85      0.83       125\n",
      "\n",
      "    accuracy                           0.82       228\n",
      "   macro avg       0.81      0.81      0.81       228\n",
      "weighted avg       0.82      0.82      0.82       228\n",
      "              precision    recall  f1-score   support\n",
      "\n",
      "           0       0.81      0.78      0.79       103\n",
      "           1       0.82      0.85      0.83       125\n",
      "\n",
      "    accuracy                           0.82       228\n",
      "   macro avg       0.81      0.81      0.81       228\n",
      "weighted avg       0.82      0.82      0.82       228\n",
      "              precision    recall  f1-score   support\n",
      "\n",
      "           0       0.81      0.78      0.79       103\n",
      "           1       0.82      0.85      0.83       125\n",
      "\n",
      "    accuracy                           0.82       228\n",
      "   macro avg       0.81      0.81      0.81       228\n",
      "weighted avg       0.82      0.82      0.82       228\n",
      "              precision    recall  f1-score   support\n",
      "\n",
      "           0       0.81      0.78      0.79       103\n",
      "           1       0.82      0.85      0.83       125\n",
      "\n",
      "    accuracy                           0.82       228\n",
      "   macro avg       0.81      0.81      0.81       228\n",
      "weighted avg       0.82      0.82      0.82       228\n",
      "              precision    recall  f1-score   support\n",
      "\n",
      "           0       0.81      0.78      0.79       103\n",
      "           1       0.82      0.85      0.83       125\n",
      "\n",
      "    accuracy                           0.82       228\n",
      "   macro avg       0.81      0.81      0.81       228\n",
      "weighted avg       0.82      0.82      0.82       228\n",
      "              precision    recall  f1-score   support\n",
      "\n",
      "           0       0.81      0.78      0.79       103\n",
      "           1       0.82      0.85      0.83       125\n",
      "\n",
      "    accuracy                           0.82       228\n",
      "   macro avg       0.81      0.81      0.81       228\n",
      "weighted avg       0.82      0.82      0.82       228\n",
      "              precision    recall  f1-score   support\n",
      "\n",
      "           0       0.81      0.78      0.79       103\n",
      "           1       0.82      0.85      0.83       125\n",
      "\n",
      "    accuracy                           0.82       228\n",
      "   macro avg       0.81      0.81      0.81       228\n",
      "weighted avg       0.82      0.82      0.82       228\n",
      "              precision    recall  f1-score   support\n",
      "\n",
      "           0       0.81      0.78      0.79       103\n",
      "           1       0.82      0.85      0.83       125\n",
      "\n",
      "    accuracy                           0.82       228\n",
      "   macro avg       0.81      0.81      0.81       228\n",
      "weighted avg       0.82      0.82      0.82       228\n",
      "              precision    recall  f1-score   support\n",
      "\n",
      "           0       0.81      0.78      0.79       103\n",
      "           1       0.82      0.85      0.83       125\n",
      "\n",
      "    accuracy                           0.82       228\n",
      "   macro avg       0.81      0.81      0.81       228\n",
      "weighted avg       0.82      0.82      0.82       228\n",
      "              precision    recall  f1-score   support\n",
      "\n",
      "           0       0.81      0.78      0.79       103\n",
      "           1       0.82      0.85      0.83       125\n",
      "\n",
      "    accuracy                           0.82       228\n",
      "   macro avg       0.81      0.81      0.81       228\n",
      "weighted avg       0.82      0.82      0.82       228\n",
      "              precision    recall  f1-score   support\n",
      "\n",
      "           0       0.81      0.78      0.79       103\n",
      "           1       0.82      0.85      0.83       125\n",
      "\n",
      "    accuracy                           0.82       228\n",
      "   macro avg       0.81      0.81      0.81       228\n",
      "weighted avg       0.82      0.82      0.82       228\n",
      "              precision    recall  f1-score   support\n",
      "\n",
      "           0       0.81      0.78      0.79       103\n",
      "           1       0.82      0.85      0.83       125\n",
      "\n",
      "    accuracy                           0.82       228\n",
      "   macro avg       0.81      0.81      0.81       228\n",
      "weighted avg       0.82      0.82      0.82       228\n",
      "              precision    recall  f1-score   support\n",
      "\n",
      "           0       0.81      0.78      0.79       103\n",
      "           1       0.82      0.85      0.83       125\n",
      "\n",
      "    accuracy                           0.82       228\n",
      "   macro avg       0.81      0.81      0.81       228\n",
      "weighted avg       0.82      0.82      0.82       228\n",
      "              precision    recall  f1-score   support\n",
      "\n",
      "           0       0.81      0.78      0.79       103\n",
      "           1       0.82      0.85      0.83       125\n",
      "\n",
      "    accuracy                           0.82       228\n",
      "   macro avg       0.81      0.81      0.81       228\n",
      "weighted avg       0.82      0.82      0.82       228\n",
      "              precision    recall  f1-score   support\n",
      "\n",
      "           0       0.81      0.78      0.79       103\n",
      "           1       0.82      0.85      0.83       125\n",
      "\n",
      "    accuracy                           0.82       228\n",
      "   macro avg       0.81      0.81      0.81       228\n",
      "weighted avg       0.82      0.82      0.82       228\n",
      "              precision    recall  f1-score   support\n",
      "\n",
      "           0       0.81      0.78      0.79       103\n",
      "           1       0.82      0.85      0.83       125\n",
      "\n",
      "    accuracy                           0.82       228\n",
      "   macro avg       0.81      0.81      0.81       228\n",
      "weighted avg       0.82      0.82      0.82       228\n",
      "              precision    recall  f1-score   support\n",
      "\n",
      "           0       0.81      0.78      0.79       103\n",
      "           1       0.82      0.85      0.83       125\n",
      "\n",
      "    accuracy                           0.82       228\n",
      "   macro avg       0.81      0.81      0.81       228\n",
      "weighted avg       0.82      0.82      0.82       228\n",
      "              precision    recall  f1-score   support\n",
      "\n",
      "           0       0.81      0.78      0.79       103\n",
      "           1       0.82      0.85      0.83       125\n",
      "\n",
      "    accuracy                           0.82       228\n",
      "   macro avg       0.81      0.81      0.81       228\n",
      "weighted avg       0.82      0.82      0.82       228\n",
      "              precision    recall  f1-score   support\n",
      "\n",
      "           0       0.81      0.78      0.79       103\n",
      "           1       0.82      0.85      0.83       125\n",
      "\n",
      "    accuracy                           0.82       228\n",
      "   macro avg       0.81      0.81      0.81       228\n",
      "weighted avg       0.82      0.82      0.82       228\n",
      "              precision    recall  f1-score   support\n",
      "\n",
      "           0       0.81      0.78      0.79       103\n",
      "           1       0.82      0.85      0.83       125\n",
      "\n",
      "    accuracy                           0.82       228\n",
      "   macro avg       0.81      0.81      0.81       228\n",
      "weighted avg       0.82      0.82      0.82       228\n",
      "              precision    recall  f1-score   support\n",
      "\n",
      "           0       0.81      0.78      0.79       103\n",
      "           1       0.82      0.85      0.83       125\n",
      "\n",
      "    accuracy                           0.82       228\n",
      "   macro avg       0.81      0.81      0.81       228\n",
      "weighted avg       0.82      0.82      0.82       228\n",
      "              precision    recall  f1-score   support\n",
      "\n",
      "           0       0.81      0.78      0.79       103\n",
      "           1       0.82      0.85      0.83       125\n",
      "\n",
      "    accuracy                           0.82       228\n",
      "   macro avg       0.81      0.81      0.81       228\n",
      "weighted avg       0.82      0.82      0.82       228\n",
      "              precision    recall  f1-score   support\n",
      "\n",
      "           0       0.81      0.78      0.79       103\n",
      "           1       0.82      0.85      0.83       125\n",
      "\n",
      "    accuracy                           0.82       228\n",
      "   macro avg       0.81      0.81      0.81       228\n",
      "weighted avg       0.82      0.82      0.82       228\n",
      "              precision    recall  f1-score   support\n",
      "\n",
      "           0       0.81      0.78      0.79       103\n",
      "           1       0.82      0.85      0.83       125\n",
      "\n",
      "    accuracy                           0.82       228\n",
      "   macro avg       0.81      0.81      0.81       228\n",
      "weighted avg       0.82      0.82      0.82       228\n",
      "              precision    recall  f1-score   support\n",
      "\n",
      "           0       0.81      0.78      0.79       103\n",
      "           1       0.82      0.85      0.83       125\n",
      "\n",
      "    accuracy                           0.82       228\n",
      "   macro avg       0.81      0.81      0.81       228\n",
      "weighted avg       0.82      0.82      0.82       228\n",
      "              precision    recall  f1-score   support\n",
      "\n",
      "           0       0.81      0.78      0.79       103\n",
      "           1       0.82      0.85      0.83       125\n",
      "\n",
      "    accuracy                           0.82       228\n",
      "   macro avg       0.81      0.81      0.81       228\n",
      "weighted avg       0.82      0.82      0.82       228\n",
      "              precision    recall  f1-score   support\n",
      "\n",
      "           0       0.81      0.78      0.79       103\n",
      "           1       0.82      0.85      0.83       125\n",
      "\n",
      "    accuracy                           0.82       228\n",
      "   macro avg       0.81      0.81      0.81       228\n",
      "weighted avg       0.82      0.82      0.82       228\n",
      "              precision    recall  f1-score   support\n",
      "\n",
      "           0       0.81      0.78      0.79       103\n",
      "           1       0.82      0.85      0.83       125\n",
      "\n",
      "    accuracy                           0.82       228\n",
      "   macro avg       0.81      0.81      0.81       228\n",
      "weighted avg       0.82      0.82      0.82       228\n",
      "              precision    recall  f1-score   support\n",
      "\n",
      "           0       0.81      0.78      0.79       103\n",
      "           1       0.82      0.85      0.83       125\n",
      "\n",
      "    accuracy                           0.82       228\n",
      "   macro avg       0.81      0.81      0.81       228\n",
      "weighted avg       0.82      0.82      0.82       228\n",
      "              precision    recall  f1-score   support\n",
      "\n",
      "           0       0.81      0.78      0.79       103\n",
      "           1       0.82      0.85      0.83       125\n",
      "\n",
      "    accuracy                           0.82       228\n",
      "   macro avg       0.81      0.81      0.81       228\n",
      "weighted avg       0.82      0.82      0.82       228\n",
      "              precision    recall  f1-score   support\n",
      "\n",
      "           0       0.81      0.78      0.79       103\n",
      "           1       0.82      0.85      0.83       125\n",
      "\n",
      "    accuracy                           0.82       228\n",
      "   macro avg       0.81      0.81      0.81       228\n",
      "weighted avg       0.82      0.82      0.82       228\n",
      "              precision    recall  f1-score   support\n",
      "\n",
      "           0       0.81      0.78      0.79       103\n",
      "           1       0.82      0.85      0.83       125\n",
      "\n",
      "    accuracy                           0.82       228\n",
      "   macro avg       0.81      0.81      0.81       228\n",
      "weighted avg       0.82      0.82      0.82       228\n",
      "              precision    recall  f1-score   support\n",
      "\n",
      "           0       0.81      0.78      0.79       103\n",
      "           1       0.82      0.85      0.83       125\n",
      "\n",
      "    accuracy                           0.82       228\n",
      "   macro avg       0.81      0.81      0.81       228\n",
      "weighted avg       0.82      0.82      0.82       228\n",
      "              precision    recall  f1-score   support\n",
      "\n",
      "           0       0.81      0.78      0.79       103\n",
      "           1       0.82      0.85      0.83       125\n",
      "\n",
      "    accuracy                           0.82       228\n",
      "   macro avg       0.81      0.81      0.81       228\n",
      "weighted avg       0.82      0.82      0.82       228\n",
      "              precision    recall  f1-score   support\n",
      "\n",
      "           0       0.81      0.78      0.79       103\n",
      "           1       0.82      0.85      0.83       125\n",
      "\n",
      "    accuracy                           0.82       228\n",
      "   macro avg       0.81      0.81      0.81       228\n",
      "weighted avg       0.82      0.82      0.82       228\n",
      "              precision    recall  f1-score   support\n",
      "\n",
      "           0       0.81      0.78      0.79       103\n",
      "           1       0.82      0.85      0.83       125\n",
      "\n",
      "    accuracy                           0.82       228\n",
      "   macro avg       0.81      0.81      0.81       228\n",
      "weighted avg       0.82      0.82      0.82       228\n"
     ]
    },
    {
     "name": "stdout",
     "output_type": "stream",
     "text": [
      "\n"
     ]
    }
   ],
   "source": [
    "print(classification_report(y_test,y_pred)*100)"
   ]
  },
  {
   "cell_type": "code",
   "execution_count": 44,
   "id": "711bbe4d",
   "metadata": {},
   "outputs": [
    {
     "data": {
      "text/plain": [
       "0.18421052631578946"
      ]
     },
     "execution_count": 44,
     "metadata": {},
     "output_type": "execute_result"
    }
   ],
   "source": [
    "\n",
    "mean_squared_error(y_test,y_pred)"
   ]
  },
  {
   "cell_type": "code",
   "execution_count": 45,
   "id": "f4d29dff",
   "metadata": {},
   "outputs": [
    {
     "data": {
      "text/plain": [
       "0.18421052631578946"
      ]
     },
     "execution_count": 45,
     "metadata": {},
     "output_type": "execute_result"
    }
   ],
   "source": [
    "mean_absolute_error(y_test,y_pred)"
   ]
  },
  {
   "cell_type": "markdown",
   "id": "bc8ed590",
   "metadata": {},
   "source": [
    "### SVM"
   ]
  },
  {
   "cell_type": "code",
   "execution_count": 46,
   "id": "4c2170f5",
   "metadata": {},
   "outputs": [],
   "source": [
    "from sklearn.svm import SVC"
   ]
  },
  {
   "cell_type": "code",
   "execution_count": 47,
   "id": "ffc6b73f",
   "metadata": {},
   "outputs": [],
   "source": [
    "S_classifier = SVC(kernel='rbf')"
   ]
  },
  {
   "cell_type": "code",
   "execution_count": 48,
   "id": "cc107b8d",
   "metadata": {},
   "outputs": [
    {
     "data": {
      "text/plain": [
       "SVC()"
      ]
     },
     "execution_count": 48,
     "metadata": {},
     "output_type": "execute_result"
    }
   ],
   "source": [
    "S_classifier.fit(X_train,y_train)"
   ]
  },
  {
   "cell_type": "code",
   "execution_count": 49,
   "id": "f8dd84d0",
   "metadata": {},
   "outputs": [],
   "source": [
    "y_pred = classifier.predict(X_test)"
   ]
  },
  {
   "cell_type": "code",
   "execution_count": 50,
   "id": "81369630",
   "metadata": {},
   "outputs": [],
   "source": [
    "df = pd.DataFrame({\"actual\":y_test,\"predicted\":y_pred})"
   ]
  },
  {
   "cell_type": "code",
   "execution_count": 51,
   "id": "c98c5ab4",
   "metadata": {},
   "outputs": [
    {
     "data": {
      "text/html": [
       "<div>\n",
       "<style scoped>\n",
       "    .dataframe tbody tr th:only-of-type {\n",
       "        vertical-align: middle;\n",
       "    }\n",
       "\n",
       "    .dataframe tbody tr th {\n",
       "        vertical-align: top;\n",
       "    }\n",
       "\n",
       "    .dataframe thead th {\n",
       "        text-align: right;\n",
       "    }\n",
       "</style>\n",
       "<table border=\"1\" class=\"dataframe\">\n",
       "  <thead>\n",
       "    <tr style=\"text-align: right;\">\n",
       "      <th></th>\n",
       "      <th>actual</th>\n",
       "      <th>predicted</th>\n",
       "    </tr>\n",
       "  </thead>\n",
       "  <tbody>\n",
       "    <tr>\n",
       "      <th>225</th>\n",
       "      <td>0</td>\n",
       "      <td>0</td>\n",
       "    </tr>\n",
       "    <tr>\n",
       "      <th>152</th>\n",
       "      <td>1</td>\n",
       "      <td>1</td>\n",
       "    </tr>\n",
       "    <tr>\n",
       "      <th>228</th>\n",
       "      <td>0</td>\n",
       "      <td>0</td>\n",
       "    </tr>\n",
       "    <tr>\n",
       "      <th>201</th>\n",
       "      <td>0</td>\n",
       "      <td>0</td>\n",
       "    </tr>\n",
       "    <tr>\n",
       "      <th>52</th>\n",
       "      <td>1</td>\n",
       "      <td>0</td>\n",
       "    </tr>\n",
       "    <tr>\n",
       "      <th>...</th>\n",
       "      <td>...</td>\n",
       "      <td>...</td>\n",
       "    </tr>\n",
       "    <tr>\n",
       "      <th>301</th>\n",
       "      <td>0</td>\n",
       "      <td>0</td>\n",
       "    </tr>\n",
       "    <tr>\n",
       "      <th>196</th>\n",
       "      <td>0</td>\n",
       "      <td>1</td>\n",
       "    </tr>\n",
       "    <tr>\n",
       "      <th>6</th>\n",
       "      <td>1</td>\n",
       "      <td>1</td>\n",
       "    </tr>\n",
       "    <tr>\n",
       "      <th>68</th>\n",
       "      <td>1</td>\n",
       "      <td>1</td>\n",
       "    </tr>\n",
       "    <tr>\n",
       "      <th>203</th>\n",
       "      <td>0</td>\n",
       "      <td>0</td>\n",
       "    </tr>\n",
       "  </tbody>\n",
       "</table>\n",
       "<p>228 rows × 2 columns</p>\n",
       "</div>"
      ],
      "text/plain": [
       "     actual  predicted\n",
       "225       0          0\n",
       "152       1          1\n",
       "228       0          0\n",
       "201       0          0\n",
       "52        1          0\n",
       "..      ...        ...\n",
       "301       0          0\n",
       "196       0          1\n",
       "6         1          1\n",
       "68        1          1\n",
       "203       0          0\n",
       "\n",
       "[228 rows x 2 columns]"
      ]
     },
     "execution_count": 51,
     "metadata": {},
     "output_type": "execute_result"
    }
   ],
   "source": [
    "df"
   ]
  },
  {
   "cell_type": "code",
   "execution_count": 52,
   "id": "83deb38d",
   "metadata": {},
   "outputs": [
    {
     "name": "stdout",
     "output_type": "stream",
     "text": [
      "[[ 80  23]\n",
      " [ 19 106]]\n"
     ]
    }
   ],
   "source": [
    "print(confusion_matrix(y_test,y_pred))"
   ]
  },
  {
   "cell_type": "code",
   "execution_count": 53,
   "id": "282ee9f8",
   "metadata": {},
   "outputs": [
    {
     "name": "stdout",
     "output_type": "stream",
     "text": [
      "81.57894736842105\n"
     ]
    }
   ],
   "source": [
    "print(accuracy_score(y_test,y_pred)*100)\n"
   ]
  },
  {
   "cell_type": "markdown",
   "id": "6f400277",
   "metadata": {},
   "source": [
    "print(classification_report(y_pred,y_test))"
   ]
  },
  {
   "cell_type": "code",
   "execution_count": 55,
   "id": "2ecb4d6e",
   "metadata": {},
   "outputs": [
    {
     "data": {
      "text/plain": [
       "0.18421052631578946"
      ]
     },
     "execution_count": 55,
     "metadata": {},
     "output_type": "execute_result"
    }
   ],
   "source": [
    "mean_squared_error(y_test,y_pred)"
   ]
  },
  {
   "cell_type": "code",
   "execution_count": 56,
   "id": "55cbe8f6",
   "metadata": {},
   "outputs": [
    {
     "data": {
      "text/plain": [
       "0.18421052631578946"
      ]
     },
     "execution_count": 56,
     "metadata": {},
     "output_type": "execute_result"
    }
   ],
   "source": [
    "mean_absolute_error(y_test,y_pred)"
   ]
  },
  {
   "cell_type": "markdown",
   "id": "676ad244",
   "metadata": {},
   "source": [
    "### Comparision of algorithms"
   ]
  },
  {
   "cell_type": "code",
   "execution_count": 58,
   "id": "c6508d49",
   "metadata": {
    "scrolled": true
   },
   "outputs": [
    {
     "data": {
      "image/png": "[encoded data removed]",
      "text/plain": [
       "<Figure size 432x288 with 1 Axes>"
      ]
     },
     "metadata": {
      "needs_background": "light"
     },
     "output_type": "display_data"
    }
   ],
   "source": [
    "\n",
    "x1=['DecisionTree','RandomeForest','SVM']\n",
    "y1=[73.24,81.55,81.55]\n",
    "\n",
    "\n",
    "plt.bar(x1,y1,align=\"center\")\n",
    "\n",
    "plt.title(\"Comparing accuracy of DecisionTree,RandomForest,SVM\") \n",
    "plt.xlabel(\"Algorithm\")\n",
    "plt.ylabel(\"Accuracy_score\")\n",
    "plt.show()"
   ]
  },
  {
   "cell_type": "code",
   "execution_count": null,
   "id": "325eca14",
   "metadata": {},
   "outputs": [],
   "source": []
  },
  {
   "cell_type": "code",
   "execution_count": null,
   "id": "fb772326",
   "metadata": {},
   "outputs": [],
   "source": []
  },
  {
   "cell_type": "code",
   "execution_count": null,
   "id": "9756e442",
   "metadata": {},
   "outputs": [],
   "source": []
  }
 ],
 "metadata": {
  "kernelspec": {
   "display_name": "Python 3",
   "language": "python",
   "name": "python3"
  },
  "language_info": {
   "codemirror_mode": {
    "name": "ipython",
    "version": 3
   },
   "file_extension": ".py",
   "mimetype": "text/x-python",
   "name": "python",
   "nbconvert_exporter": "python",
   "pygments_lexer": "ipython3",
   "version": "3.8.8"
  }
 },
 "nbformat": 4,
 "nbformat_minor": 5
}
